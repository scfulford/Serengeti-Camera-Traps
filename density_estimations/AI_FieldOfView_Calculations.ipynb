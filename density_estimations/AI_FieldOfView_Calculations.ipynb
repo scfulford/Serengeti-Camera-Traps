{
  "nbformat": 4,
  "nbformat_minor": 0,
  "metadata": {
    "colab": {
      "name": "AI_FieldOfView_Calculations.ipynb",
      "provenance": [],
      "include_colab_link": true
    },
    "kernelspec": {
      "name": "ir",
      "display_name": "R"
    }
  },
  "cells": [
    {
      "cell_type": "markdown",
      "metadata": {
        "id": "view-in-github",
        "colab_type": "text"
      },
      "source": [
        "<a href=\"https://colab.research.google.com/github/scfulford/Serengeti-Camera-Traps/blob/master/density_estimations/AI_FieldOfView_Calculations.ipynb\" target=\"_parent\"><img src=\"https://colab.research.google.com/assets/colab-badge.svg\" alt=\"Open In Colab\"/></a>"
      ]
    },
    {
      "cell_type": "code",
      "metadata": {
        "id": "Ob63fk1DUmRE",
        "colab_type": "code",
        "colab": {}
      },
      "source": [
        "test_import <-system('python3 -c \"import google.colab\"', intern=TRUE)\n",
        "import_status <- attr(test_import,'status')\n",
        "datadir<-'../data/'\n",
        "rootdir<-'../'\n",
        "if (is.null(import_status)) { \n",
        "    datadir<-'camera-trap-analysis/data/'\n",
        "    rootdir<-'camera-trap-analysis/'\n",
        "    if (!dir.exists('camera-trap-analysis')){\n",
        "        install.packages(\"getPass\")\n",
        "\n",
        "        # no error received so we are running in colab\n",
        "        username <- readline(prompt=\"enter GitHub username: \")\n",
        "        password <- getPass::getPass(\"enter password: \")\n",
        "        Sys.setenv(git_user =  paste(username, password, sep=\":\"))\n",
        "        system('git clone https://$git_user@github.com/ctorney/camera-trap-analysis.git')\n",
        "        \n",
        "    }\n",
        "}\n",
        "library(dplyr)"
      ],
      "execution_count": 29,
      "outputs": []
    },
    {
      "cell_type": "code",
      "metadata": {
        "id": "OhRBWRyrAjWB",
        "colab_type": "code",
        "colab": {
          "base_uri": "https://localhost:8080/",
          "height": 51
        },
        "outputId": "641a06b4-f64f-4ab1-f72a-051295dc3966"
      },
      "source": [
        "require(stringr)\n"
      ],
      "execution_count": null,
      "outputs": [
        {
          "output_type": "stream",
          "text": [
            "Loading required package: stringr\n",
            "\n"
          ],
          "name": "stderr"
        }
      ]
    },
    {
      "cell_type": "markdown",
      "metadata": {
        "id": "FxxubJy-tTuo",
        "colab_type": "text"
      },
      "source": [
        "Load the data"
      ]
    },
    {
      "cell_type": "code",
      "metadata": {
        "id": "JMSUC9McUqr_",
        "colab_type": "code",
        "colab": {}
      },
      "source": [
        "# Load and format Bounding Box predictions\n",
        "preds <- read.table(paste(rootdir, \"aide_query/box_predictions_20200506.txt\", sep = \"\"), sep = \",\")\n",
        "names(preds) <- c(\"filename\", \"species\", \"x\", \"y\", \"width\", \"height\")\n",
        "preds <- preds[2:length(preds$filename),]\n",
        "preds$filename <- as.character(preds$filename)\n",
        "preds$filename <- substr(preds$filename, nchar(preds$filename)-36, nchar(preds$filename))\n",
        "preds$filename <- gsub(\"_TAB\", \"TAB\", preds$filename)"
      ],
      "execution_count": null,
      "outputs": []
    },
    {
      "cell_type": "code",
      "metadata": {
        "id": "q_klDTVQBzZU",
        "colab_type": "code",
        "colab": {}
      },
      "source": [
        "# Load Image metadata\n",
        "All_Images <- read.csv(paste(datadir, \"manual_counts.csv\", sep = \"\"))\n",
        "# New file name column\n",
        "All_Images$filename <- paste(All_Images$camera.no, All_Images$datedownload, All_Images$folder, All_Images$basename, sep = \"_\")\n",
        "# Select only relevant columns\n",
        "All_Images <- All_Images[,c(1, 2, 4, 5, 55)]\n",
        "names(All_Images) <- c(\"basename\", \"date\", \"camera.no\", \"datedownload\", \"filename\")\n",
        "All_Images$joinid <- paste(All_Images$camera.no, All_Images$datedownload, sep = \" \")\n"
      ],
      "execution_count": null,
      "outputs": []
    },
    {
      "cell_type": "code",
      "metadata": {
        "id": "HyPtnpFJVi4l",
        "colab_type": "code",
        "colab": {}
      },
      "source": [
        "# Load resolution data frame\n",
        "resolution <- read.csv(paste(datadir, \"image_resolution.csv\", sep = \"\"))\n",
        "resolution$joinid <- paste(resolution$camera.no, resolution$datedownload, sep = \" \")\n"
      ],
      "execution_count": null,
      "outputs": []
    },
    {
      "cell_type": "markdown",
      "metadata": {
        "id": "S4XC3LS8V6Xf",
        "colab_type": "text"
      },
      "source": [
        "Join Dataframes"
      ]
    },
    {
      "cell_type": "code",
      "metadata": {
        "id": "0xLaFpCGV5DB",
        "colab_type": "code",
        "colab": {}
      },
      "source": [
        "All_Images <- left_join(All_Images, resolution, by = \"joinid\")\n",
        "All_Images <- All_Images[,c(1:5, 9)]\n",
        "names(All_Images)[3:4] <- c(\"camera.no\", \"datedownload\")\n",
        "preds <- left_join(preds, All_Images, by = \"filename\")\n"
      ],
      "execution_count": null,
      "outputs": []
    },
    {
      "cell_type": "code",
      "metadata": {
        "id": "j5hO-zuUjeUQ",
        "colab_type": "code",
        "colab": {}
      },
      "source": [
        "# Change BB dimensions to number objects\n",
        "preds$x <- as.numeric(as.character(preds$x))\n",
        "preds$y <- as.numeric(as.character(preds$y))\n",
        "preds$width <- as.numeric(as.character(preds$width))\n",
        "preds$height <- as.numeric(as.character(preds$height))"
      ],
      "execution_count": null,
      "outputs": []
    },
    {
      "cell_type": "code",
      "metadata": {
        "id": "he6sZWsJ45iP",
        "colab_type": "code",
        "colab": {}
      },
      "source": [
        "# Create columns of image dimensions\n",
        "preds$image_width <- as.numeric(substr(preds$resolution , 1, 4))\n",
        "preds$image_height <- as.numeric(substr(preds$resolution , 8, 11))\n"
      ],
      "execution_count": null,
      "outputs": []
    },
    {
      "cell_type": "markdown",
      "metadata": {
        "id": "je6qmL4DZDpK",
        "colab_type": "text"
      },
      "source": [
        "Calculate BB dimensions in pixels\n"
      ]
    },
    {
      "cell_type": "code",
      "metadata": {
        "id": "wTCJX51lsJQS",
        "colab_type": "code",
        "colab": {}
      },
      "source": [
        "preds$x_pixel <- preds$x * preds$image_width\n",
        "preds$y_pixel <- preds$y * preds$image_height\n",
        "preds$y_pixel <- preds$image_height - preds$y_pixel # Change to pixel count from bottom of image\n",
        "preds$width_pixel <- preds$width * preds$image_width\n",
        "preds$height_pixel <- preds$height * preds$image_height\n",
        "preds <- preds[order(preds$camera.no),]\n"
      ],
      "execution_count": null,
      "outputs": []
    },
    {
      "cell_type": "code",
      "metadata": {
        "id": "GlhqX2VznExg",
        "colab_type": "code",
        "colab": {
          "base_uri": "https://localhost:8080/",
          "height": 85
        },
        "outputId": "b63fbedd-54d3-4753-a3a7-307680c358fa"
      },
      "source": [
        "summary(preds$camera.no)"
      ],
      "execution_count": null,
      "outputs": [
        {
          "output_type": "display_data",
          "data": {
            "text/plain": [
              "KILE_5 KILE_6 KUKA_1 KUKA_2 KUKA_3 KUKA_4 KUKA_5 KUKA_6 MBAL_1 MBAL_2 MBAL_3 \n",
              "   138     46    119    629    656   1237    543   2525      6   1518     35 \n",
              "MBAL_4 MBAL_5 MBAL_6 SOIT_1 SOIT_2 SOIT_3 SOIT_4 SOIT_5 SOIT_6  TAB_1  TAB_2 \n",
              "   247    441   3464     63     34     16     14      0      0     60    254 \n",
              " TAB_3  TAB_4  TAB_5  TAB_6 \n",
              "   804   1278     24    120 "
            ],
            "text/latex": "\\begin{description*}\n\\item[KILE\\textbackslash{}\\_5] 138\n\\item[KILE\\textbackslash{}\\_6] 46\n\\item[KUKA\\textbackslash{}\\_1] 119\n\\item[KUKA\\textbackslash{}\\_2] 629\n\\item[KUKA\\textbackslash{}\\_3] 656\n\\item[KUKA\\textbackslash{}\\_4] 1237\n\\item[KUKA\\textbackslash{}\\_5] 543\n\\item[KUKA\\textbackslash{}\\_6] 2525\n\\item[MBAL\\textbackslash{}\\_1] 6\n\\item[MBAL\\textbackslash{}\\_2] 1518\n\\item[MBAL\\textbackslash{}\\_3] 35\n\\item[MBAL\\textbackslash{}\\_4] 247\n\\item[MBAL\\textbackslash{}\\_5] 441\n\\item[MBAL\\textbackslash{}\\_6] 3464\n\\item[SOIT\\textbackslash{}\\_1] 63\n\\item[SOIT\\textbackslash{}\\_2] 34\n\\item[SOIT\\textbackslash{}\\_3] 16\n\\item[SOIT\\textbackslash{}\\_4] 14\n\\item[SOIT\\textbackslash{}\\_5] 0\n\\item[SOIT\\textbackslash{}\\_6] 0\n\\item[TAB\\textbackslash{}\\_1] 60\n\\item[TAB\\textbackslash{}\\_2] 254\n\\item[TAB\\textbackslash{}\\_3] 804\n\\item[TAB\\textbackslash{}\\_4] 1278\n\\item[TAB\\textbackslash{}\\_5] 24\n\\item[TAB\\textbackslash{}\\_6] 120\n\\end{description*}\n",
            "text/markdown": "KILE_5\n:   138KILE_6\n:   46KUKA_1\n:   119KUKA_2\n:   629KUKA_3\n:   656KUKA_4\n:   1237KUKA_5\n:   543KUKA_6\n:   2525MBAL_1\n:   6MBAL_2\n:   1518MBAL_3\n:   35MBAL_4\n:   247MBAL_5\n:   441MBAL_6\n:   3464SOIT_1\n:   63SOIT_2\n:   34SOIT_3\n:   16SOIT_4\n:   14SOIT_5\n:   0SOIT_6\n:   0TAB_1\n:   60TAB_2\n:   254TAB_3\n:   804TAB_4\n:   1278TAB_5\n:   24TAB_6\n:   120\n\n",
            "text/html": [
              "<style>\n",
              ".dl-inline {width: auto; margin:0; padding: 0}\n",
              ".dl-inline>dt, .dl-inline>dd {float: none; width: auto; display: inline-block}\n",
              ".dl-inline>dt::after {content: \":\\0020\"; padding-right: .5ex}\n",
              ".dl-inline>dt:not(:first-of-type) {padding-left: .5ex}\n",
              "</style><dl class=dl-inline><dt>KILE_5</dt><dd>138</dd><dt>KILE_6</dt><dd>46</dd><dt>KUKA_1</dt><dd>119</dd><dt>KUKA_2</dt><dd>629</dd><dt>KUKA_3</dt><dd>656</dd><dt>KUKA_4</dt><dd>1237</dd><dt>KUKA_5</dt><dd>543</dd><dt>KUKA_6</dt><dd>2525</dd><dt>MBAL_1</dt><dd>6</dd><dt>MBAL_2</dt><dd>1518</dd><dt>MBAL_3</dt><dd>35</dd><dt>MBAL_4</dt><dd>247</dd><dt>MBAL_5</dt><dd>441</dd><dt>MBAL_6</dt><dd>3464</dd><dt>SOIT_1</dt><dd>63</dd><dt>SOIT_2</dt><dd>34</dd><dt>SOIT_3</dt><dd>16</dd><dt>SOIT_4</dt><dd>14</dd><dt>SOIT_5</dt><dd>0</dd><dt>SOIT_6</dt><dd>0</dd><dt>TAB_1</dt><dd>60</dd><dt>TAB_2</dt><dd>254</dd><dt>TAB_3</dt><dd>804</dd><dt>TAB_4</dt><dd>1278</dd><dt>TAB_5</dt><dd>24</dd><dt>TAB_6</dt><dd>120</dd></dl>\n"
            ]
          },
          "metadata": {
            "tags": []
          }
        }
      ]
    },
    {
      "cell_type": "code",
      "metadata": {
        "id": "JshaZ46PZibP",
        "colab_type": "code",
        "colab": {}
      },
      "source": [
        "# Select only wildebeest predictions\n",
        "preds <- preds[which(preds$species == \"Wildebeest\"),]"
      ],
      "execution_count": null,
      "outputs": []
    },
    {
      "cell_type": "markdown",
      "metadata": {
        "id": "AiV3GS9XZPcr",
        "colab_type": "text"
      },
      "source": [
        "Identify the top 5 percent of bounding boxes highest in the image for each date download folder"
      ]
    },
    {
      "cell_type": "code",
      "metadata": {
        "id": "hGULsbfwZLzE",
        "colab_type": "code",
        "colab": {}
      },
      "source": [
        "#Set up ojects\n",
        "FOV_background <- data.frame(\"camera.no\" = NA, \"datedownload\" = NA, \"folder\" = NA,\n",
        "                  \"position\" = NA, \"species\" = NA, \"species_length\" = NA, \"pixel_width\" = NA, \n",
        "                  \"pixel_height\" = NA)\n",
        "temp <- FOV_background\n",
        "cameras <- as.character(unique(preds$camera.no))\n"
      ],
      "execution_count": null,
      "outputs": []
    },
    {
      "cell_type": "code",
      "metadata": {
        "id": "xo-WLnAnZvb6",
        "colab_type": "code",
        "colab": {}
      },
      "source": [
        "for(i in 1:length(cameras)){\n",
        "  xx <- preds[which(preds$camera.no == cameras[i]),]\n",
        "  datedownload <- unique(xx$datedownload)\n",
        "  for(j in 1:length(datedownload)){\n",
        "    yy <- xx[which(xx$datedownload == datedownload[j]),]\n",
        "    yy <- yy[order(yy$y_pixel),]\n",
        "    yy$id <- 1:length(yy$filename)\n",
        "    yy$percentile <- NA\n",
        "    for (k in 1:length(yy$filename)){\n",
        "      yy$percentile[k] <- k/max(yy$id)*100\n",
        "    }\n",
        "    y_95 <- yy$height_pixel[which(yy$percentile >= 95)]\n",
        "    temp$camera.no <- cameras[i]\n",
        "    temp$datedownload <- datedownload[j]\n",
        "    temp$position <- \"background\"\n",
        "    temp$species <- \"wildebeest\"\n",
        "    temp$species_length <- 2.050\n",
        "    temp$pixel_height <- mean(y_95)\n",
        "    FOV_background <- rbind(FOV_background, temp)\n",
        "  }\n",
        "}\n",
        "\n",
        "FOV_background <- FOV_background[2:length(FOV_background$camera.no),]\n"
      ],
      "execution_count": null,
      "outputs": []
    },
    {
      "cell_type": "markdown",
      "metadata": {
        "id": "l6bFkn9SUslT",
        "colab_type": "text"
      },
      "source": [
        "Identify the top 5 percent of bounding boxes highest in the image for each month camera trap was in operation"
      ]
    },
    {
      "cell_type": "code",
      "metadata": {
        "id": "ieETwNAFUsVJ",
        "colab_type": "code",
        "colab": {}
      },
      "source": [
        "# Calculation for each month\n",
        "#preds$date <- as.Date(preds$date, format = \"%Y-%m-%d\")\n",
        "#preds$MY_date <- format(preds$date, \"%m-%Y\")\n",
        "#preds$MY_date <- as.factor(preds$MY_date)\n",
        "\n",
        "#FOV_background <- data.frame(\"camera.no\" = NA, \"date\" = NA,\n",
        "#                  \"position\" = NA, \"species\" = NA, \"species_length\" = NA, \"pixel_width\" = NA, \n",
        "#                  \"pixel_height\" = NA)\n",
        "#temp <- FOV_background\n",
        "\n",
        "#cameras <- as.character(unique(preds$camera.no))"
      ],
      "execution_count": null,
      "outputs": []
    },
    {
      "cell_type": "code",
      "metadata": {
        "id": "__QcQMnAUr-F",
        "colab_type": "code",
        "colab": {}
      },
      "source": [
        "#for(i in 1:length(cameras)){\n",
        "#  xx <- preds[which(preds$camera.no == cameras[i]),]\n",
        "#  month <- unique(xx$MY_date)\n",
        "#  for(j in 1:length(month)){\n",
        "#    yy <- xx[which(xx$MY_date == month[j]),]\n",
        "#    yy <- yy[order(yy$y_pixel),]\n",
        "#    yy$id <- 1:length(yy$filename)\n",
        "#    yy$percentile <- NA\n",
        "#    for (k in 1:length(yy$filename)){\n",
        "#      yy$percentile[k] <- k/max(yy$id)*100\n",
        "#    }\n",
        "#    y_90 <- yy$height_pixel[which(yy$percentile >= 90)]\n",
        "#    temp$camera.no <- cameras[i]\n",
        "#    temp$date <- month[j]\n",
        "#    temp$position <- \"background\"\n",
        "#    temp$species <- \"wildebeest\"\n",
        "#    temp$species_length <- 2.050\n",
        "#    temp$pixel_height <- mean(y_90)\n",
        "#    FOV_background <- rbind(FOV_background, temp)\n",
        "#  }\n",
        "#}\n",
        "\n",
        "#FOV_background <- FOV_background[2:length(FOV_background$camera.no),]"
      ],
      "execution_count": null,
      "outputs": []
    },
    {
      "cell_type": "markdown",
      "metadata": {
        "id": "kXFSFEBxZiJS",
        "colab_type": "text"
      },
      "source": [
        "Calculate Area from Wildebeest pixel height"
      ]
    },
    {
      "cell_type": "code",
      "metadata": {
        "id": "N_lRh4mUsJCv",
        "colab_type": "code",
        "colab": {}
      },
      "source": [
        "# WB Height : 1.21m \n",
        "FOV_background$pixel_width <- FOV_background$pixel_height * 2.05 / 1.21\n"
      ],
      "execution_count": null,
      "outputs": []
    },
    {
      "cell_type": "code",
      "metadata": {
        "id": "b8jv_4f5rJx4",
        "colab_type": "code",
        "colab": {}
      },
      "source": [
        "# width of image based on file size\n",
        "FOV_background$image_width <- NA\n",
        "for (i in 1:length(FOV_background$camera.no)){\n",
        "  xx <- All_Images[which(All_Images$camera.no == FOV_background$camera.no[i]),]\n",
        "  yy <- xx[which(xx$datedownload == FOV_background$datedownload[i]),]\n",
        "  FOV_background$image_width[i] <- as.numeric(substr(yy$resolution[1], 1, 4))\n",
        "}"
      ],
      "execution_count": null,
      "outputs": []
    },
    {
      "cell_type": "code",
      "metadata": {
        "id": "1L5NnDDMrJlu",
        "colab_type": "code",
        "colab": {}
      },
      "source": [
        "# Calculate width of area in the foreground and background of each image\n",
        "for (i in 1:length(FOV_background$camera.no)){\n",
        "  FOV_background$fov_width[i] <- FOV_background$image_width[i] * FOV_background$species_length[i] / FOV_background$pixel_width[i]\n",
        "}\n"
      ],
      "execution_count": null,
      "outputs": []
    },
    {
      "cell_type": "code",
      "metadata": {
        "id": "EpJ_3XsXrJg6",
        "colab_type": "code",
        "colab": {}
      },
      "source": [
        "# Calculate distance from each example animal to the camera\n",
        "for (i in 1:length(FOV_background$camera.no)){\n",
        "  FOV_background$dist_camera[i] <- (FOV_background$fov_width[i]/2)/tan(0.3927)\n",
        "}"
      ],
      "execution_count": null,
      "outputs": []
    },
    {
      "cell_type": "code",
      "metadata": {
        "id": "kpEQKPLarJeH",
        "colab_type": "code",
        "colab": {}
      },
      "source": [
        "# Calculate area within the the field of view and between the animal and the camear\n",
        "for (i in 1:length(FOV_background$camera.no)){\n",
        "  FOV_background$AOV[i] <- 0.5 * FOV_background$fov_width[i] * FOV_background$dist_camera[i]\n",
        "}\n"
      ],
      "execution_count": null,
      "outputs": []
    },
    {
      "cell_type": "code",
      "metadata": {
        "id": "SPbNItyDVSfA",
        "colab_type": "code",
        "colab": {}
      },
      "source": [
        "# Change area from m2 to km2\n",
        "FOV_background$AOV_km2 <- FOV_background$AOV/1000000\n",
        "names(FOV_background)[12] <- \"AOV_m2\" "
      ],
      "execution_count": null,
      "outputs": []
    },
    {
      "cell_type": "code",
      "metadata": {
        "id": "OygUPAAprJR6",
        "colab_type": "code",
        "colab": {}
      },
      "source": [
        "#Export Calculation Dataframe\n",
        "write.csv(FOV_background, \"AI_AreaOfView.csv\", row.names = F)"
      ],
      "execution_count": null,
      "outputs": []
    },
    {
      "cell_type": "code",
      "metadata": {
        "id": "x1EWo1jEsJUy",
        "colab_type": "code",
        "colab": {
          "base_uri": "https://localhost:8080/",
          "height": 1000
        },
        "outputId": "15de09bf-17dd-4db3-dd52-fe1dac06c481"
      },
      "source": [
        "FOV_background"
      ],
      "execution_count": null,
      "outputs": [
        {
          "output_type": "display_data",
          "data": {
            "text/plain": [
              "   camera.no datedownload folder position   species    species_length\n",
              "2  KILE_5    20170126     NA     background wildebeest 2.05          \n",
              "3  KILE_6    20170126     NA     background wildebeest 2.05          \n",
              "4  KUKA_1    20170612     NA     background wildebeest 2.05          \n",
              "5  KUKA_2    20170127     NA     background wildebeest 2.05          \n",
              "6  KUKA_2    20170824     NA     background wildebeest 2.05          \n",
              "7  KUKA_3    20170127     NA     background wildebeest 2.05          \n",
              "8  KUKA_3    20170824     NA     background wildebeest 2.05          \n",
              "9  KUKA_4    20170127     NA     background wildebeest 2.05          \n",
              "10 KUKA_4    20170612     NA     background wildebeest 2.05          \n",
              "11 KUKA_5    20170127     NA     background wildebeest 2.05          \n",
              "12 KUKA_5    20170612     NA     background wildebeest 2.05          \n",
              "13 KUKA_5    20170824     NA     background wildebeest 2.05          \n",
              "14 KUKA_6    20170127     NA     background wildebeest 2.05          \n",
              "15 KUKA_6    20170612     NA     background wildebeest 2.05          \n",
              "16 KUKA_6    20170824     NA     background wildebeest 2.05          \n",
              "17 MBAL_1    20170825     NA     background wildebeest 2.05          \n",
              "18 MBAL_2    20170121     NA     background wildebeest 2.05          \n",
              "19 MBAL_2    20170605     NA     background wildebeest 2.05          \n",
              "20 MBAL_2    20170825     NA     background wildebeest 2.05          \n",
              "21 MBAL_3    20170605     NA     background wildebeest 2.05          \n",
              "22 MBAL_3    20170825     NA     background wildebeest 2.05          \n",
              "23 MBAL_4    20170121     NA     background wildebeest 2.05          \n",
              "24 MBAL_4    20170825     NA     background wildebeest 2.05          \n",
              "25 MBAL_5    20170605     NA     background wildebeest 2.05          \n",
              "26 MBAL_5    20170825     NA     background wildebeest 2.05          \n",
              "27 MBAL_6    20170121     NA     background wildebeest 2.05          \n",
              "28 MBAL_6    20170605     NA     background wildebeest 2.05          \n",
              "29 MBAL_6    20170825     NA     background wildebeest 2.05          \n",
              "30 SOIT_1    20180507     NA     background wildebeest 2.05          \n",
              "31 SOIT_2    20180507     NA     background wildebeest 2.05          \n",
              "32 SOIT_3    20180507     NA     background wildebeest 2.05          \n",
              "33 SOIT_4    20180507     NA     background wildebeest 2.05          \n",
              "34 TAB_1     20170128     NA     background wildebeest 2.05          \n",
              "35 TAB_1     20170828     NA     background wildebeest 2.05          \n",
              "36 TAB_2     20170129     NA     background wildebeest 2.05          \n",
              "37 TAB_2     20170828     NA     background wildebeest 2.05          \n",
              "38 TAB_3     20170128     NA     background wildebeest 2.05          \n",
              "39 TAB_3     20170619     NA     background wildebeest 2.05          \n",
              "40 TAB_3     20170828     NA     background wildebeest 2.05          \n",
              "41 TAB_4     20170128     NA     background wildebeest 2.05          \n",
              "42 TAB_4     20170828     NA     background wildebeest 2.05          \n",
              "43 TAB_5     20170828     NA     background wildebeest 2.05          \n",
              "44 TAB_6     20170828     NA     background wildebeest 2.05          \n",
              "   pixel_width pixel_height image_width fov_width  dist_camera AOV_m2     \n",
              "2  311.16486   183.663158   2592         17.076479  20.613080    175.99941\n",
              "3   40.87630    24.126984   2592        129.992211 156.914072  10198.80360\n",
              "4   56.77082    33.508631   2592         93.597378 112.981737   5287.39719\n",
              "5   41.46889    24.476757   2592        128.134621 154.671768   9909.40422\n",
              "6   62.02840    36.611887   2592         85.663982 103.405305   4429.05511\n",
              "7   47.04492    27.767975   2592        112.947380 136.339194   7699.57739\n",
              "8   29.58139    17.460237   2592        179.626424 216.827712  19473.99325\n",
              "9   39.85145    23.522073   2592        133.335188 160.949392  10730.10868\n",
              "10 430.83306   254.296584   2592         12.333315  14.887590     91.80667\n",
              "11  65.59288    38.715797   2592         81.008794  97.786010   3960.76337\n",
              "12  46.58073    27.493992   2592        114.072922 137.697840   7853.79746\n",
              "13  65.76943    38.820003   3264        101.737240 122.807393   6247.04260\n",
              "14  42.32772    24.983682   2592        125.534741 151.533444   9511.35583\n",
              "15  39.77117    23.474689   2592        133.604326 161.274269  10773.47005\n",
              "16  67.67919    39.947231   3264         98.866426 119.342023   5899.45966\n",
              "17  95.07502    56.117448   2592         55.888500  67.463212   1885.20887\n",
              "18  37.99553    22.426629   2592        139.848035 168.811073  11803.94849\n",
              "19  35.97274    21.232688   2592        147.711870 178.303537  13168.77441\n",
              "20  25.34114    14.957451   3264        264.044984 318.729662  42079.48426\n",
              "21 784.10621   462.813912   2592          6.776633   8.180098     27.71676\n",
              "22  70.84335    41.814857   2592         75.004920  90.538713   3395.42446\n",
              "23  59.02272    34.837799   2592         90.026354 108.671140   4891.63328\n",
              "24  46.28332    27.318449   2592        114.805933 138.582660   7955.05579\n",
              "25  37.44126    22.099478   2592        141.918287 171.310082  12156.01670\n",
              "26  39.06621    23.058592   2592        136.015242 164.184495  11165.79694\n",
              "27  34.41605    20.313866   2592        154.393064 186.368431  14386.99652\n",
              "28  40.93659    24.162575   2592        129.800733 156.682938  10168.78012\n",
              "29 517.78690   305.620560   3264         12.922691  15.599027    100.79070\n",
              "30 148.71192    87.776304   3264         44.994376  54.312875   1221.88695\n",
              "31 288.46966   170.267458   3264         23.195507  27.999381    324.72992\n",
              "32 163.68863    96.616217   2592         32.461631  39.184553    635.99726\n",
              "33 404.69541   238.869000   2592         13.129875  15.849119    104.04847\n",
              "34  64.51627    38.080336   2592         82.360619  99.417803   4094.05589\n",
              "35  51.20620    30.224146   2592        103.768690 125.259564   6499.01045\n",
              "36  46.76024    27.599944   2592        113.635014 137.169239   7793.61419\n",
              "37  51.76173    30.552047   2592        102.654989 123.915211   6360.25732\n",
              "38  43.55760    25.709607   2592        121.990197 147.254812   8981.82177\n",
              "39  13.47571     7.953954   2592        394.309559 475.972506  93840.25456\n",
              "40  30.30510    17.887400   2592        175.336828 211.649725  18554.99572\n",
              "41  30.00761    17.711810   2592        177.075070 213.747963  18924.71771\n",
              "42 100.89472    59.552496   2592         52.664795  63.571866   1673.99965\n",
              "43  81.29973    47.986668   2592         65.358153  78.894065   2578.18520\n",
              "44  63.41492    37.430272   2592         83.791003 101.144425   4237.49639\n",
              "   AOV_km2     \n",
              "2  1.759994e-04\n",
              "3  1.019880e-02\n",
              "4  5.287397e-03\n",
              "5  9.909404e-03\n",
              "6  4.429055e-03\n",
              "7  7.699577e-03\n",
              "8  1.947399e-02\n",
              "9  1.073011e-02\n",
              "10 9.180667e-05\n",
              "11 3.960763e-03\n",
              "12 7.853797e-03\n",
              "13 6.247043e-03\n",
              "14 9.511356e-03\n",
              "15 1.077347e-02\n",
              "16 5.899460e-03\n",
              "17 1.885209e-03\n",
              "18 1.180395e-02\n",
              "19 1.316877e-02\n",
              "20 4.207948e-02\n",
              "21 2.771676e-05\n",
              "22 3.395424e-03\n",
              "23 4.891633e-03\n",
              "24 7.955056e-03\n",
              "25 1.215602e-02\n",
              "26 1.116580e-02\n",
              "27 1.438700e-02\n",
              "28 1.016878e-02\n",
              "29 1.007907e-04\n",
              "30 1.221887e-03\n",
              "31 3.247299e-04\n",
              "32 6.359973e-04\n",
              "33 1.040485e-04\n",
              "34 4.094056e-03\n",
              "35 6.499010e-03\n",
              "36 7.793614e-03\n",
              "37 6.360257e-03\n",
              "38 8.981822e-03\n",
              "39 9.384025e-02\n",
              "40 1.855500e-02\n",
              "41 1.892472e-02\n",
              "42 1.674000e-03\n",
              "43 2.578185e-03\n",
              "44 4.237496e-03"
            ],
            "text/latex": "A data.frame: 43 × 13\n\\begin{tabular}{r|lllllllllllll}\n  & camera.no & datedownload & folder & position & species & species\\_length & pixel\\_width & pixel\\_height & image\\_width & fov\\_width & dist\\_camera & AOV\\_m2 & AOV\\_km2\\\\\n  & <chr> & <int> & <lgl> & <chr> & <chr> & <dbl> & <dbl> & <dbl> & <dbl> & <dbl> & <dbl> & <dbl> & <dbl>\\\\\n\\hline\n\t2 & KILE\\_5 & 20170126 & NA & background & wildebeest & 2.05 & 311.16486 & 183.663158 & 2592 &  17.076479 &  20.613080 &   175.99941 & 1.759994e-04\\\\\n\t3 & KILE\\_6 & 20170126 & NA & background & wildebeest & 2.05 &  40.87630 &  24.126984 & 2592 & 129.992211 & 156.914072 & 10198.80360 & 1.019880e-02\\\\\n\t4 & KUKA\\_1 & 20170612 & NA & background & wildebeest & 2.05 &  56.77082 &  33.508631 & 2592 &  93.597378 & 112.981737 &  5287.39719 & 5.287397e-03\\\\\n\t5 & KUKA\\_2 & 20170127 & NA & background & wildebeest & 2.05 &  41.46889 &  24.476757 & 2592 & 128.134621 & 154.671768 &  9909.40422 & 9.909404e-03\\\\\n\t6 & KUKA\\_2 & 20170824 & NA & background & wildebeest & 2.05 &  62.02840 &  36.611887 & 2592 &  85.663982 & 103.405305 &  4429.05511 & 4.429055e-03\\\\\n\t7 & KUKA\\_3 & 20170127 & NA & background & wildebeest & 2.05 &  47.04492 &  27.767975 & 2592 & 112.947380 & 136.339194 &  7699.57739 & 7.699577e-03\\\\\n\t8 & KUKA\\_3 & 20170824 & NA & background & wildebeest & 2.05 &  29.58139 &  17.460237 & 2592 & 179.626424 & 216.827712 & 19473.99325 & 1.947399e-02\\\\\n\t9 & KUKA\\_4 & 20170127 & NA & background & wildebeest & 2.05 &  39.85145 &  23.522073 & 2592 & 133.335188 & 160.949392 & 10730.10868 & 1.073011e-02\\\\\n\t10 & KUKA\\_4 & 20170612 & NA & background & wildebeest & 2.05 & 430.83306 & 254.296584 & 2592 &  12.333315 &  14.887590 &    91.80667 & 9.180667e-05\\\\\n\t11 & KUKA\\_5 & 20170127 & NA & background & wildebeest & 2.05 &  65.59288 &  38.715797 & 2592 &  81.008794 &  97.786010 &  3960.76337 & 3.960763e-03\\\\\n\t12 & KUKA\\_5 & 20170612 & NA & background & wildebeest & 2.05 &  46.58073 &  27.493992 & 2592 & 114.072922 & 137.697840 &  7853.79746 & 7.853797e-03\\\\\n\t13 & KUKA\\_5 & 20170824 & NA & background & wildebeest & 2.05 &  65.76943 &  38.820003 & 3264 & 101.737240 & 122.807393 &  6247.04260 & 6.247043e-03\\\\\n\t14 & KUKA\\_6 & 20170127 & NA & background & wildebeest & 2.05 &  42.32772 &  24.983682 & 2592 & 125.534741 & 151.533444 &  9511.35583 & 9.511356e-03\\\\\n\t15 & KUKA\\_6 & 20170612 & NA & background & wildebeest & 2.05 &  39.77117 &  23.474689 & 2592 & 133.604326 & 161.274269 & 10773.47005 & 1.077347e-02\\\\\n\t16 & KUKA\\_6 & 20170824 & NA & background & wildebeest & 2.05 &  67.67919 &  39.947231 & 3264 &  98.866426 & 119.342023 &  5899.45966 & 5.899460e-03\\\\\n\t17 & MBAL\\_1 & 20170825 & NA & background & wildebeest & 2.05 &  95.07502 &  56.117448 & 2592 &  55.888500 &  67.463212 &  1885.20887 & 1.885209e-03\\\\\n\t18 & MBAL\\_2 & 20170121 & NA & background & wildebeest & 2.05 &  37.99553 &  22.426629 & 2592 & 139.848035 & 168.811073 & 11803.94849 & 1.180395e-02\\\\\n\t19 & MBAL\\_2 & 20170605 & NA & background & wildebeest & 2.05 &  35.97274 &  21.232688 & 2592 & 147.711870 & 178.303537 & 13168.77441 & 1.316877e-02\\\\\n\t20 & MBAL\\_2 & 20170825 & NA & background & wildebeest & 2.05 &  25.34114 &  14.957451 & 3264 & 264.044984 & 318.729662 & 42079.48426 & 4.207948e-02\\\\\n\t21 & MBAL\\_3 & 20170605 & NA & background & wildebeest & 2.05 & 784.10621 & 462.813912 & 2592 &   6.776633 &   8.180098 &    27.71676 & 2.771676e-05\\\\\n\t22 & MBAL\\_3 & 20170825 & NA & background & wildebeest & 2.05 &  70.84335 &  41.814857 & 2592 &  75.004920 &  90.538713 &  3395.42446 & 3.395424e-03\\\\\n\t23 & MBAL\\_4 & 20170121 & NA & background & wildebeest & 2.05 &  59.02272 &  34.837799 & 2592 &  90.026354 & 108.671140 &  4891.63328 & 4.891633e-03\\\\\n\t24 & MBAL\\_4 & 20170825 & NA & background & wildebeest & 2.05 &  46.28332 &  27.318449 & 2592 & 114.805933 & 138.582660 &  7955.05579 & 7.955056e-03\\\\\n\t25 & MBAL\\_5 & 20170605 & NA & background & wildebeest & 2.05 &  37.44126 &  22.099478 & 2592 & 141.918287 & 171.310082 & 12156.01670 & 1.215602e-02\\\\\n\t26 & MBAL\\_5 & 20170825 & NA & background & wildebeest & 2.05 &  39.06621 &  23.058592 & 2592 & 136.015242 & 164.184495 & 11165.79694 & 1.116580e-02\\\\\n\t27 & MBAL\\_6 & 20170121 & NA & background & wildebeest & 2.05 &  34.41605 &  20.313866 & 2592 & 154.393064 & 186.368431 & 14386.99652 & 1.438700e-02\\\\\n\t28 & MBAL\\_6 & 20170605 & NA & background & wildebeest & 2.05 &  40.93659 &  24.162575 & 2592 & 129.800733 & 156.682938 & 10168.78012 & 1.016878e-02\\\\\n\t29 & MBAL\\_6 & 20170825 & NA & background & wildebeest & 2.05 & 517.78690 & 305.620560 & 3264 &  12.922691 &  15.599027 &   100.79070 & 1.007907e-04\\\\\n\t30 & SOIT\\_1 & 20180507 & NA & background & wildebeest & 2.05 & 148.71192 &  87.776304 & 3264 &  44.994376 &  54.312875 &  1221.88695 & 1.221887e-03\\\\\n\t31 & SOIT\\_2 & 20180507 & NA & background & wildebeest & 2.05 & 288.46966 & 170.267458 & 3264 &  23.195507 &  27.999381 &   324.72992 & 3.247299e-04\\\\\n\t32 & SOIT\\_3 & 20180507 & NA & background & wildebeest & 2.05 & 163.68863 &  96.616217 & 2592 &  32.461631 &  39.184553 &   635.99726 & 6.359973e-04\\\\\n\t33 & SOIT\\_4 & 20180507 & NA & background & wildebeest & 2.05 & 404.69541 & 238.869000 & 2592 &  13.129875 &  15.849119 &   104.04847 & 1.040485e-04\\\\\n\t34 & TAB\\_1  & 20170128 & NA & background & wildebeest & 2.05 &  64.51627 &  38.080336 & 2592 &  82.360619 &  99.417803 &  4094.05589 & 4.094056e-03\\\\\n\t35 & TAB\\_1  & 20170828 & NA & background & wildebeest & 2.05 &  51.20620 &  30.224146 & 2592 & 103.768690 & 125.259564 &  6499.01045 & 6.499010e-03\\\\\n\t36 & TAB\\_2  & 20170129 & NA & background & wildebeest & 2.05 &  46.76024 &  27.599944 & 2592 & 113.635014 & 137.169239 &  7793.61419 & 7.793614e-03\\\\\n\t37 & TAB\\_2  & 20170828 & NA & background & wildebeest & 2.05 &  51.76173 &  30.552047 & 2592 & 102.654989 & 123.915211 &  6360.25732 & 6.360257e-03\\\\\n\t38 & TAB\\_3  & 20170128 & NA & background & wildebeest & 2.05 &  43.55760 &  25.709607 & 2592 & 121.990197 & 147.254812 &  8981.82177 & 8.981822e-03\\\\\n\t39 & TAB\\_3  & 20170619 & NA & background & wildebeest & 2.05 &  13.47571 &   7.953954 & 2592 & 394.309559 & 475.972506 & 93840.25456 & 9.384025e-02\\\\\n\t40 & TAB\\_3  & 20170828 & NA & background & wildebeest & 2.05 &  30.30510 &  17.887400 & 2592 & 175.336828 & 211.649725 & 18554.99572 & 1.855500e-02\\\\\n\t41 & TAB\\_4  & 20170128 & NA & background & wildebeest & 2.05 &  30.00761 &  17.711810 & 2592 & 177.075070 & 213.747963 & 18924.71771 & 1.892472e-02\\\\\n\t42 & TAB\\_4  & 20170828 & NA & background & wildebeest & 2.05 & 100.89472 &  59.552496 & 2592 &  52.664795 &  63.571866 &  1673.99965 & 1.674000e-03\\\\\n\t43 & TAB\\_5  & 20170828 & NA & background & wildebeest & 2.05 &  81.29973 &  47.986668 & 2592 &  65.358153 &  78.894065 &  2578.18520 & 2.578185e-03\\\\\n\t44 & TAB\\_6  & 20170828 & NA & background & wildebeest & 2.05 &  63.41492 &  37.430272 & 2592 &  83.791003 & 101.144425 &  4237.49639 & 4.237496e-03\\\\\n\\end{tabular}\n",
            "text/markdown": "\nA data.frame: 43 × 13\n\n| <!--/--> | camera.no &lt;chr&gt; | datedownload &lt;int&gt; | folder &lt;lgl&gt; | position &lt;chr&gt; | species &lt;chr&gt; | species_length &lt;dbl&gt; | pixel_width &lt;dbl&gt; | pixel_height &lt;dbl&gt; | image_width &lt;dbl&gt; | fov_width &lt;dbl&gt; | dist_camera &lt;dbl&gt; | AOV_m2 &lt;dbl&gt; | AOV_km2 &lt;dbl&gt; |\n|---|---|---|---|---|---|---|---|---|---|---|---|---|---|\n| 2 | KILE_5 | 20170126 | NA | background | wildebeest | 2.05 | 311.16486 | 183.663158 | 2592 |  17.076479 |  20.613080 |   175.99941 | 1.759994e-04 |\n| 3 | KILE_6 | 20170126 | NA | background | wildebeest | 2.05 |  40.87630 |  24.126984 | 2592 | 129.992211 | 156.914072 | 10198.80360 | 1.019880e-02 |\n| 4 | KUKA_1 | 20170612 | NA | background | wildebeest | 2.05 |  56.77082 |  33.508631 | 2592 |  93.597378 | 112.981737 |  5287.39719 | 5.287397e-03 |\n| 5 | KUKA_2 | 20170127 | NA | background | wildebeest | 2.05 |  41.46889 |  24.476757 | 2592 | 128.134621 | 154.671768 |  9909.40422 | 9.909404e-03 |\n| 6 | KUKA_2 | 20170824 | NA | background | wildebeest | 2.05 |  62.02840 |  36.611887 | 2592 |  85.663982 | 103.405305 |  4429.05511 | 4.429055e-03 |\n| 7 | KUKA_3 | 20170127 | NA | background | wildebeest | 2.05 |  47.04492 |  27.767975 | 2592 | 112.947380 | 136.339194 |  7699.57739 | 7.699577e-03 |\n| 8 | KUKA_3 | 20170824 | NA | background | wildebeest | 2.05 |  29.58139 |  17.460237 | 2592 | 179.626424 | 216.827712 | 19473.99325 | 1.947399e-02 |\n| 9 | KUKA_4 | 20170127 | NA | background | wildebeest | 2.05 |  39.85145 |  23.522073 | 2592 | 133.335188 | 160.949392 | 10730.10868 | 1.073011e-02 |\n| 10 | KUKA_4 | 20170612 | NA | background | wildebeest | 2.05 | 430.83306 | 254.296584 | 2592 |  12.333315 |  14.887590 |    91.80667 | 9.180667e-05 |\n| 11 | KUKA_5 | 20170127 | NA | background | wildebeest | 2.05 |  65.59288 |  38.715797 | 2592 |  81.008794 |  97.786010 |  3960.76337 | 3.960763e-03 |\n| 12 | KUKA_5 | 20170612 | NA | background | wildebeest | 2.05 |  46.58073 |  27.493992 | 2592 | 114.072922 | 137.697840 |  7853.79746 | 7.853797e-03 |\n| 13 | KUKA_5 | 20170824 | NA | background | wildebeest | 2.05 |  65.76943 |  38.820003 | 3264 | 101.737240 | 122.807393 |  6247.04260 | 6.247043e-03 |\n| 14 | KUKA_6 | 20170127 | NA | background | wildebeest | 2.05 |  42.32772 |  24.983682 | 2592 | 125.534741 | 151.533444 |  9511.35583 | 9.511356e-03 |\n| 15 | KUKA_6 | 20170612 | NA | background | wildebeest | 2.05 |  39.77117 |  23.474689 | 2592 | 133.604326 | 161.274269 | 10773.47005 | 1.077347e-02 |\n| 16 | KUKA_6 | 20170824 | NA | background | wildebeest | 2.05 |  67.67919 |  39.947231 | 3264 |  98.866426 | 119.342023 |  5899.45966 | 5.899460e-03 |\n| 17 | MBAL_1 | 20170825 | NA | background | wildebeest | 2.05 |  95.07502 |  56.117448 | 2592 |  55.888500 |  67.463212 |  1885.20887 | 1.885209e-03 |\n| 18 | MBAL_2 | 20170121 | NA | background | wildebeest | 2.05 |  37.99553 |  22.426629 | 2592 | 139.848035 | 168.811073 | 11803.94849 | 1.180395e-02 |\n| 19 | MBAL_2 | 20170605 | NA | background | wildebeest | 2.05 |  35.97274 |  21.232688 | 2592 | 147.711870 | 178.303537 | 13168.77441 | 1.316877e-02 |\n| 20 | MBAL_2 | 20170825 | NA | background | wildebeest | 2.05 |  25.34114 |  14.957451 | 3264 | 264.044984 | 318.729662 | 42079.48426 | 4.207948e-02 |\n| 21 | MBAL_3 | 20170605 | NA | background | wildebeest | 2.05 | 784.10621 | 462.813912 | 2592 |   6.776633 |   8.180098 |    27.71676 | 2.771676e-05 |\n| 22 | MBAL_3 | 20170825 | NA | background | wildebeest | 2.05 |  70.84335 |  41.814857 | 2592 |  75.004920 |  90.538713 |  3395.42446 | 3.395424e-03 |\n| 23 | MBAL_4 | 20170121 | NA | background | wildebeest | 2.05 |  59.02272 |  34.837799 | 2592 |  90.026354 | 108.671140 |  4891.63328 | 4.891633e-03 |\n| 24 | MBAL_4 | 20170825 | NA | background | wildebeest | 2.05 |  46.28332 |  27.318449 | 2592 | 114.805933 | 138.582660 |  7955.05579 | 7.955056e-03 |\n| 25 | MBAL_5 | 20170605 | NA | background | wildebeest | 2.05 |  37.44126 |  22.099478 | 2592 | 141.918287 | 171.310082 | 12156.01670 | 1.215602e-02 |\n| 26 | MBAL_5 | 20170825 | NA | background | wildebeest | 2.05 |  39.06621 |  23.058592 | 2592 | 136.015242 | 164.184495 | 11165.79694 | 1.116580e-02 |\n| 27 | MBAL_6 | 20170121 | NA | background | wildebeest | 2.05 |  34.41605 |  20.313866 | 2592 | 154.393064 | 186.368431 | 14386.99652 | 1.438700e-02 |\n| 28 | MBAL_6 | 20170605 | NA | background | wildebeest | 2.05 |  40.93659 |  24.162575 | 2592 | 129.800733 | 156.682938 | 10168.78012 | 1.016878e-02 |\n| 29 | MBAL_6 | 20170825 | NA | background | wildebeest | 2.05 | 517.78690 | 305.620560 | 3264 |  12.922691 |  15.599027 |   100.79070 | 1.007907e-04 |\n| 30 | SOIT_1 | 20180507 | NA | background | wildebeest | 2.05 | 148.71192 |  87.776304 | 3264 |  44.994376 |  54.312875 |  1221.88695 | 1.221887e-03 |\n| 31 | SOIT_2 | 20180507 | NA | background | wildebeest | 2.05 | 288.46966 | 170.267458 | 3264 |  23.195507 |  27.999381 |   324.72992 | 3.247299e-04 |\n| 32 | SOIT_3 | 20180507 | NA | background | wildebeest | 2.05 | 163.68863 |  96.616217 | 2592 |  32.461631 |  39.184553 |   635.99726 | 6.359973e-04 |\n| 33 | SOIT_4 | 20180507 | NA | background | wildebeest | 2.05 | 404.69541 | 238.869000 | 2592 |  13.129875 |  15.849119 |   104.04847 | 1.040485e-04 |\n| 34 | TAB_1  | 20170128 | NA | background | wildebeest | 2.05 |  64.51627 |  38.080336 | 2592 |  82.360619 |  99.417803 |  4094.05589 | 4.094056e-03 |\n| 35 | TAB_1  | 20170828 | NA | background | wildebeest | 2.05 |  51.20620 |  30.224146 | 2592 | 103.768690 | 125.259564 |  6499.01045 | 6.499010e-03 |\n| 36 | TAB_2  | 20170129 | NA | background | wildebeest | 2.05 |  46.76024 |  27.599944 | 2592 | 113.635014 | 137.169239 |  7793.61419 | 7.793614e-03 |\n| 37 | TAB_2  | 20170828 | NA | background | wildebeest | 2.05 |  51.76173 |  30.552047 | 2592 | 102.654989 | 123.915211 |  6360.25732 | 6.360257e-03 |\n| 38 | TAB_3  | 20170128 | NA | background | wildebeest | 2.05 |  43.55760 |  25.709607 | 2592 | 121.990197 | 147.254812 |  8981.82177 | 8.981822e-03 |\n| 39 | TAB_3  | 20170619 | NA | background | wildebeest | 2.05 |  13.47571 |   7.953954 | 2592 | 394.309559 | 475.972506 | 93840.25456 | 9.384025e-02 |\n| 40 | TAB_3  | 20170828 | NA | background | wildebeest | 2.05 |  30.30510 |  17.887400 | 2592 | 175.336828 | 211.649725 | 18554.99572 | 1.855500e-02 |\n| 41 | TAB_4  | 20170128 | NA | background | wildebeest | 2.05 |  30.00761 |  17.711810 | 2592 | 177.075070 | 213.747963 | 18924.71771 | 1.892472e-02 |\n| 42 | TAB_4  | 20170828 | NA | background | wildebeest | 2.05 | 100.89472 |  59.552496 | 2592 |  52.664795 |  63.571866 |  1673.99965 | 1.674000e-03 |\n| 43 | TAB_5  | 20170828 | NA | background | wildebeest | 2.05 |  81.29973 |  47.986668 | 2592 |  65.358153 |  78.894065 |  2578.18520 | 2.578185e-03 |\n| 44 | TAB_6  | 20170828 | NA | background | wildebeest | 2.05 |  63.41492 |  37.430272 | 2592 |  83.791003 | 101.144425 |  4237.49639 | 4.237496e-03 |\n\n",
            "text/html": [
              "<table>\n",
              "<caption>A data.frame: 43 × 13</caption>\n",
              "<thead>\n",
              "\t<tr><th></th><th scope=col>camera.no</th><th scope=col>datedownload</th><th scope=col>folder</th><th scope=col>position</th><th scope=col>species</th><th scope=col>species_length</th><th scope=col>pixel_width</th><th scope=col>pixel_height</th><th scope=col>image_width</th><th scope=col>fov_width</th><th scope=col>dist_camera</th><th scope=col>AOV_m2</th><th scope=col>AOV_km2</th></tr>\n",
              "\t<tr><th></th><th scope=col>&lt;chr&gt;</th><th scope=col>&lt;int&gt;</th><th scope=col>&lt;lgl&gt;</th><th scope=col>&lt;chr&gt;</th><th scope=col>&lt;chr&gt;</th><th scope=col>&lt;dbl&gt;</th><th scope=col>&lt;dbl&gt;</th><th scope=col>&lt;dbl&gt;</th><th scope=col>&lt;dbl&gt;</th><th scope=col>&lt;dbl&gt;</th><th scope=col>&lt;dbl&gt;</th><th scope=col>&lt;dbl&gt;</th><th scope=col>&lt;dbl&gt;</th></tr>\n",
              "</thead>\n",
              "<tbody>\n",
              "\t<tr><th scope=row>2</th><td>KILE_5</td><td>20170126</td><td>NA</td><td>background</td><td>wildebeest</td><td>2.05</td><td>311.16486</td><td>183.663158</td><td>2592</td><td> 17.076479</td><td> 20.613080</td><td>  175.99941</td><td>1.759994e-04</td></tr>\n",
              "\t<tr><th scope=row>3</th><td>KILE_6</td><td>20170126</td><td>NA</td><td>background</td><td>wildebeest</td><td>2.05</td><td> 40.87630</td><td> 24.126984</td><td>2592</td><td>129.992211</td><td>156.914072</td><td>10198.80360</td><td>1.019880e-02</td></tr>\n",
              "\t<tr><th scope=row>4</th><td>KUKA_1</td><td>20170612</td><td>NA</td><td>background</td><td>wildebeest</td><td>2.05</td><td> 56.77082</td><td> 33.508631</td><td>2592</td><td> 93.597378</td><td>112.981737</td><td> 5287.39719</td><td>5.287397e-03</td></tr>\n",
              "\t<tr><th scope=row>5</th><td>KUKA_2</td><td>20170127</td><td>NA</td><td>background</td><td>wildebeest</td><td>2.05</td><td> 41.46889</td><td> 24.476757</td><td>2592</td><td>128.134621</td><td>154.671768</td><td> 9909.40422</td><td>9.909404e-03</td></tr>\n",
              "\t<tr><th scope=row>6</th><td>KUKA_2</td><td>20170824</td><td>NA</td><td>background</td><td>wildebeest</td><td>2.05</td><td> 62.02840</td><td> 36.611887</td><td>2592</td><td> 85.663982</td><td>103.405305</td><td> 4429.05511</td><td>4.429055e-03</td></tr>\n",
              "\t<tr><th scope=row>7</th><td>KUKA_3</td><td>20170127</td><td>NA</td><td>background</td><td>wildebeest</td><td>2.05</td><td> 47.04492</td><td> 27.767975</td><td>2592</td><td>112.947380</td><td>136.339194</td><td> 7699.57739</td><td>7.699577e-03</td></tr>\n",
              "\t<tr><th scope=row>8</th><td>KUKA_3</td><td>20170824</td><td>NA</td><td>background</td><td>wildebeest</td><td>2.05</td><td> 29.58139</td><td> 17.460237</td><td>2592</td><td>179.626424</td><td>216.827712</td><td>19473.99325</td><td>1.947399e-02</td></tr>\n",
              "\t<tr><th scope=row>9</th><td>KUKA_4</td><td>20170127</td><td>NA</td><td>background</td><td>wildebeest</td><td>2.05</td><td> 39.85145</td><td> 23.522073</td><td>2592</td><td>133.335188</td><td>160.949392</td><td>10730.10868</td><td>1.073011e-02</td></tr>\n",
              "\t<tr><th scope=row>10</th><td>KUKA_4</td><td>20170612</td><td>NA</td><td>background</td><td>wildebeest</td><td>2.05</td><td>430.83306</td><td>254.296584</td><td>2592</td><td> 12.333315</td><td> 14.887590</td><td>   91.80667</td><td>9.180667e-05</td></tr>\n",
              "\t<tr><th scope=row>11</th><td>KUKA_5</td><td>20170127</td><td>NA</td><td>background</td><td>wildebeest</td><td>2.05</td><td> 65.59288</td><td> 38.715797</td><td>2592</td><td> 81.008794</td><td> 97.786010</td><td> 3960.76337</td><td>3.960763e-03</td></tr>\n",
              "\t<tr><th scope=row>12</th><td>KUKA_5</td><td>20170612</td><td>NA</td><td>background</td><td>wildebeest</td><td>2.05</td><td> 46.58073</td><td> 27.493992</td><td>2592</td><td>114.072922</td><td>137.697840</td><td> 7853.79746</td><td>7.853797e-03</td></tr>\n",
              "\t<tr><th scope=row>13</th><td>KUKA_5</td><td>20170824</td><td>NA</td><td>background</td><td>wildebeest</td><td>2.05</td><td> 65.76943</td><td> 38.820003</td><td>3264</td><td>101.737240</td><td>122.807393</td><td> 6247.04260</td><td>6.247043e-03</td></tr>\n",
              "\t<tr><th scope=row>14</th><td>KUKA_6</td><td>20170127</td><td>NA</td><td>background</td><td>wildebeest</td><td>2.05</td><td> 42.32772</td><td> 24.983682</td><td>2592</td><td>125.534741</td><td>151.533444</td><td> 9511.35583</td><td>9.511356e-03</td></tr>\n",
              "\t<tr><th scope=row>15</th><td>KUKA_6</td><td>20170612</td><td>NA</td><td>background</td><td>wildebeest</td><td>2.05</td><td> 39.77117</td><td> 23.474689</td><td>2592</td><td>133.604326</td><td>161.274269</td><td>10773.47005</td><td>1.077347e-02</td></tr>\n",
              "\t<tr><th scope=row>16</th><td>KUKA_6</td><td>20170824</td><td>NA</td><td>background</td><td>wildebeest</td><td>2.05</td><td> 67.67919</td><td> 39.947231</td><td>3264</td><td> 98.866426</td><td>119.342023</td><td> 5899.45966</td><td>5.899460e-03</td></tr>\n",
              "\t<tr><th scope=row>17</th><td>MBAL_1</td><td>20170825</td><td>NA</td><td>background</td><td>wildebeest</td><td>2.05</td><td> 95.07502</td><td> 56.117448</td><td>2592</td><td> 55.888500</td><td> 67.463212</td><td> 1885.20887</td><td>1.885209e-03</td></tr>\n",
              "\t<tr><th scope=row>18</th><td>MBAL_2</td><td>20170121</td><td>NA</td><td>background</td><td>wildebeest</td><td>2.05</td><td> 37.99553</td><td> 22.426629</td><td>2592</td><td>139.848035</td><td>168.811073</td><td>11803.94849</td><td>1.180395e-02</td></tr>\n",
              "\t<tr><th scope=row>19</th><td>MBAL_2</td><td>20170605</td><td>NA</td><td>background</td><td>wildebeest</td><td>2.05</td><td> 35.97274</td><td> 21.232688</td><td>2592</td><td>147.711870</td><td>178.303537</td><td>13168.77441</td><td>1.316877e-02</td></tr>\n",
              "\t<tr><th scope=row>20</th><td>MBAL_2</td><td>20170825</td><td>NA</td><td>background</td><td>wildebeest</td><td>2.05</td><td> 25.34114</td><td> 14.957451</td><td>3264</td><td>264.044984</td><td>318.729662</td><td>42079.48426</td><td>4.207948e-02</td></tr>\n",
              "\t<tr><th scope=row>21</th><td>MBAL_3</td><td>20170605</td><td>NA</td><td>background</td><td>wildebeest</td><td>2.05</td><td>784.10621</td><td>462.813912</td><td>2592</td><td>  6.776633</td><td>  8.180098</td><td>   27.71676</td><td>2.771676e-05</td></tr>\n",
              "\t<tr><th scope=row>22</th><td>MBAL_3</td><td>20170825</td><td>NA</td><td>background</td><td>wildebeest</td><td>2.05</td><td> 70.84335</td><td> 41.814857</td><td>2592</td><td> 75.004920</td><td> 90.538713</td><td> 3395.42446</td><td>3.395424e-03</td></tr>\n",
              "\t<tr><th scope=row>23</th><td>MBAL_4</td><td>20170121</td><td>NA</td><td>background</td><td>wildebeest</td><td>2.05</td><td> 59.02272</td><td> 34.837799</td><td>2592</td><td> 90.026354</td><td>108.671140</td><td> 4891.63328</td><td>4.891633e-03</td></tr>\n",
              "\t<tr><th scope=row>24</th><td>MBAL_4</td><td>20170825</td><td>NA</td><td>background</td><td>wildebeest</td><td>2.05</td><td> 46.28332</td><td> 27.318449</td><td>2592</td><td>114.805933</td><td>138.582660</td><td> 7955.05579</td><td>7.955056e-03</td></tr>\n",
              "\t<tr><th scope=row>25</th><td>MBAL_5</td><td>20170605</td><td>NA</td><td>background</td><td>wildebeest</td><td>2.05</td><td> 37.44126</td><td> 22.099478</td><td>2592</td><td>141.918287</td><td>171.310082</td><td>12156.01670</td><td>1.215602e-02</td></tr>\n",
              "\t<tr><th scope=row>26</th><td>MBAL_5</td><td>20170825</td><td>NA</td><td>background</td><td>wildebeest</td><td>2.05</td><td> 39.06621</td><td> 23.058592</td><td>2592</td><td>136.015242</td><td>164.184495</td><td>11165.79694</td><td>1.116580e-02</td></tr>\n",
              "\t<tr><th scope=row>27</th><td>MBAL_6</td><td>20170121</td><td>NA</td><td>background</td><td>wildebeest</td><td>2.05</td><td> 34.41605</td><td> 20.313866</td><td>2592</td><td>154.393064</td><td>186.368431</td><td>14386.99652</td><td>1.438700e-02</td></tr>\n",
              "\t<tr><th scope=row>28</th><td>MBAL_6</td><td>20170605</td><td>NA</td><td>background</td><td>wildebeest</td><td>2.05</td><td> 40.93659</td><td> 24.162575</td><td>2592</td><td>129.800733</td><td>156.682938</td><td>10168.78012</td><td>1.016878e-02</td></tr>\n",
              "\t<tr><th scope=row>29</th><td>MBAL_6</td><td>20170825</td><td>NA</td><td>background</td><td>wildebeest</td><td>2.05</td><td>517.78690</td><td>305.620560</td><td>3264</td><td> 12.922691</td><td> 15.599027</td><td>  100.79070</td><td>1.007907e-04</td></tr>\n",
              "\t<tr><th scope=row>30</th><td>SOIT_1</td><td>20180507</td><td>NA</td><td>background</td><td>wildebeest</td><td>2.05</td><td>148.71192</td><td> 87.776304</td><td>3264</td><td> 44.994376</td><td> 54.312875</td><td> 1221.88695</td><td>1.221887e-03</td></tr>\n",
              "\t<tr><th scope=row>31</th><td>SOIT_2</td><td>20180507</td><td>NA</td><td>background</td><td>wildebeest</td><td>2.05</td><td>288.46966</td><td>170.267458</td><td>3264</td><td> 23.195507</td><td> 27.999381</td><td>  324.72992</td><td>3.247299e-04</td></tr>\n",
              "\t<tr><th scope=row>32</th><td>SOIT_3</td><td>20180507</td><td>NA</td><td>background</td><td>wildebeest</td><td>2.05</td><td>163.68863</td><td> 96.616217</td><td>2592</td><td> 32.461631</td><td> 39.184553</td><td>  635.99726</td><td>6.359973e-04</td></tr>\n",
              "\t<tr><th scope=row>33</th><td>SOIT_4</td><td>20180507</td><td>NA</td><td>background</td><td>wildebeest</td><td>2.05</td><td>404.69541</td><td>238.869000</td><td>2592</td><td> 13.129875</td><td> 15.849119</td><td>  104.04847</td><td>1.040485e-04</td></tr>\n",
              "\t<tr><th scope=row>34</th><td>TAB_1 </td><td>20170128</td><td>NA</td><td>background</td><td>wildebeest</td><td>2.05</td><td> 64.51627</td><td> 38.080336</td><td>2592</td><td> 82.360619</td><td> 99.417803</td><td> 4094.05589</td><td>4.094056e-03</td></tr>\n",
              "\t<tr><th scope=row>35</th><td>TAB_1 </td><td>20170828</td><td>NA</td><td>background</td><td>wildebeest</td><td>2.05</td><td> 51.20620</td><td> 30.224146</td><td>2592</td><td>103.768690</td><td>125.259564</td><td> 6499.01045</td><td>6.499010e-03</td></tr>\n",
              "\t<tr><th scope=row>36</th><td>TAB_2 </td><td>20170129</td><td>NA</td><td>background</td><td>wildebeest</td><td>2.05</td><td> 46.76024</td><td> 27.599944</td><td>2592</td><td>113.635014</td><td>137.169239</td><td> 7793.61419</td><td>7.793614e-03</td></tr>\n",
              "\t<tr><th scope=row>37</th><td>TAB_2 </td><td>20170828</td><td>NA</td><td>background</td><td>wildebeest</td><td>2.05</td><td> 51.76173</td><td> 30.552047</td><td>2592</td><td>102.654989</td><td>123.915211</td><td> 6360.25732</td><td>6.360257e-03</td></tr>\n",
              "\t<tr><th scope=row>38</th><td>TAB_3 </td><td>20170128</td><td>NA</td><td>background</td><td>wildebeest</td><td>2.05</td><td> 43.55760</td><td> 25.709607</td><td>2592</td><td>121.990197</td><td>147.254812</td><td> 8981.82177</td><td>8.981822e-03</td></tr>\n",
              "\t<tr><th scope=row>39</th><td>TAB_3 </td><td>20170619</td><td>NA</td><td>background</td><td>wildebeest</td><td>2.05</td><td> 13.47571</td><td>  7.953954</td><td>2592</td><td>394.309559</td><td>475.972506</td><td>93840.25456</td><td>9.384025e-02</td></tr>\n",
              "\t<tr><th scope=row>40</th><td>TAB_3 </td><td>20170828</td><td>NA</td><td>background</td><td>wildebeest</td><td>2.05</td><td> 30.30510</td><td> 17.887400</td><td>2592</td><td>175.336828</td><td>211.649725</td><td>18554.99572</td><td>1.855500e-02</td></tr>\n",
              "\t<tr><th scope=row>41</th><td>TAB_4 </td><td>20170128</td><td>NA</td><td>background</td><td>wildebeest</td><td>2.05</td><td> 30.00761</td><td> 17.711810</td><td>2592</td><td>177.075070</td><td>213.747963</td><td>18924.71771</td><td>1.892472e-02</td></tr>\n",
              "\t<tr><th scope=row>42</th><td>TAB_4 </td><td>20170828</td><td>NA</td><td>background</td><td>wildebeest</td><td>2.05</td><td>100.89472</td><td> 59.552496</td><td>2592</td><td> 52.664795</td><td> 63.571866</td><td> 1673.99965</td><td>1.674000e-03</td></tr>\n",
              "\t<tr><th scope=row>43</th><td>TAB_5 </td><td>20170828</td><td>NA</td><td>background</td><td>wildebeest</td><td>2.05</td><td> 81.29973</td><td> 47.986668</td><td>2592</td><td> 65.358153</td><td> 78.894065</td><td> 2578.18520</td><td>2.578185e-03</td></tr>\n",
              "\t<tr><th scope=row>44</th><td>TAB_6 </td><td>20170828</td><td>NA</td><td>background</td><td>wildebeest</td><td>2.05</td><td> 63.41492</td><td> 37.430272</td><td>2592</td><td> 83.791003</td><td>101.144425</td><td> 4237.49639</td><td>4.237496e-03</td></tr>\n",
              "</tbody>\n",
              "</table>\n"
            ]
          },
          "metadata": {
            "tags": []
          }
        }
      ]
    },
    {
      "cell_type": "code",
      "metadata": {
        "id": "KKPTMg8RYpUl",
        "colab_type": "code",
        "colab": {}
      },
      "source": [
        ""
      ],
      "execution_count": null,
      "outputs": []
    }
  ]
}